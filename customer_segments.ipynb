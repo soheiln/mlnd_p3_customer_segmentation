{
 "cells": [
  {
   "cell_type": "markdown",
   "metadata": {},
   "source": [
    "# Creating Customer Segments"
   ]
  },
  {
   "cell_type": "markdown",
   "metadata": {},
   "source": [
    "In this project you, will analyze a dataset containing annual spending amounts for internal structure, to understand the variation in the different types of customers that a wholesale distributor interacts with.\n",
    "\n",
    "Instructions:\n",
    "\n",
    "- Run each code block below by pressing **Shift+Enter**, making sure to implement any steps marked with a TODO.\n",
    "- Answer each question in the space provided by editing the blocks labeled \"Answer:\".\n",
    "- When you are done, submit the completed notebook (.ipynb) with all code blocks executed, as well as a .pdf version (File > Download as)."
   ]
  },
  {
   "cell_type": "code",
   "execution_count": 1,
   "metadata": {
    "collapsed": false
   },
   "outputs": [
    {
     "name": "stdout",
     "output_type": "stream",
     "text": [
      "Dataset has 440 rows, 6 columns\n",
      "   Fresh  Milk  Grocery  Frozen  Detergents_Paper  Delicatessen\n",
      "0  12669  9656     7561     214              2674          1338\n",
      "1   7057  9810     9568    1762              3293          1776\n",
      "2   6353  8808     7684    2405              3516          7844\n",
      "3  13265  1196     4221    6404               507          1788\n",
      "4  22615  5410     7198    3915              1777          5185\n",
      "\n",
      "Correlation Matrix: \n",
      "\n",
      "                  Fresh  Milk  Grocery  Frozen  Detergents_Paper  Delicatessen\n",
      "Fresh              1.00  0.10    -0.01    0.35             -0.10          0.24\n",
      "Milk               0.10  1.00     0.73    0.12              0.66          0.41\n",
      "Grocery           -0.01  0.73     1.00   -0.04              0.92          0.21\n",
      "Frozen             0.35  0.12    -0.04    1.00             -0.13          0.39\n",
      "Detergents_Paper  -0.10  0.66     0.92   -0.13              1.00          0.07\n",
      "Delicatessen       0.24  0.41     0.21    0.39              0.07          1.00\n",
      "\n",
      "Variance for each product: \n",
      "\n"
     ]
    }
   ],
   "source": [
    "# Import libraries: NumPy, pandas, matplotlib\n",
    "import numpy as np\n",
    "import pandas as pd\n",
    "import matplotlib.pyplot as plt\n",
    "\n",
    "# Tell iPython to include plots inline in the notebook\n",
    "%matplotlib inline\n",
    "\n",
    "# Read dataset\n",
    "data = pd.read_csv(\"wholesale-customers.csv\")\n",
    "print \"Dataset has {} rows, {} columns\".format(*data.shape)\n",
    "print data.head()  # print the first 5 rows\n",
    "\n",
    "#Exploratory Data Analysis\n",
    "print \"\\nCorrelation Matrix: \\n\"\n",
    "pd.set_option('precision', 2)\n",
    "print data.corr()\n",
    "\n",
    "print \"\\nVariance for each product: \\n\""
   ]
  },
  {
   "cell_type": "markdown",
   "metadata": {},
   "source": [
    "##Feature Transformation\n",
    "\n",
    "**1)** In this section you will be using PCA and ICA to start to understand the structure of the data. Before doing any computations, what do you think will show up in your computations? List one or two ideas for what might show up as the first PCA dimensions, or what type of vectors will show up as ICA dimensions."
   ]
  },
  {
   "cell_type": "markdown",
   "metadata": {},
   "source": [
    "Answer: Based on some exploratory data analysis, my guess is that 'Fresh' and 'Grocery' would be a potential candidates for the first PCA dimensions since they presumably have the highest variance and hence can potentially differentaite between different customer segments better.\n",
    "\n",
    "It is also interesting to note that 'Grocery' and 'Detergent_Papers' are highly correlated, meaning it's likely that they would be forming an independent component together under ICA analysis."
   ]
  },
  {
   "cell_type": "markdown",
   "metadata": {},
   "source": [
    "###PCA"
   ]
  },
  {
   "cell_type": "code",
   "execution_count": 2,
   "metadata": {
    "collapsed": false,
    "scrolled": true
   },
   "outputs": [
    {
     "name": "stdout",
     "output_type": "stream",
     "text": [
      "PCA Components:\n",
      "[[-0.97653685 -0.12118407 -0.06154039 -0.15236462  0.00705417 -0.06810471]\n",
      " [-0.11061386  0.51580216  0.76460638 -0.01872345  0.36535076  0.05707921]\n",
      " [-0.17855726  0.50988675 -0.27578088  0.71420037 -0.20440987  0.28321747]\n",
      " [-0.04187648 -0.64564047  0.37546049  0.64629232  0.14938013 -0.02039579]\n",
      " [ 0.015986    0.20323566 -0.1602915   0.22018612  0.20793016 -0.91707659]\n",
      " [-0.01576316  0.03349187  0.41093894 -0.01328898 -0.87128428 -0.26541687]]\n",
      "\n",
      "PCA Explained Variance Ratio:\n",
      "[ 0.45961362  0.40517227  0.07003008  0.04402344  0.01502212  0.00613848]\n",
      "\n",
      "The figure below shows total explained variance of data over the number of PC's\n"
     ]
    },
    {
     "data": {
      "text/plain": [
       "[<matplotlib.lines.Line2D at 0x10e677f50>]"
      ]
     },
     "execution_count": 2,
     "metadata": {},
     "output_type": "execute_result"
    },
    {
     "data": {
      "image/png": "[encoded data removed]",
      "text/plain": [
       "<matplotlib.figure.Figure at 0x10d1bb8d0>"
      ]
     },
     "metadata": {},
     "output_type": "display_data"
    }
   ],
   "source": [
    "# TODO: Apply PCA with the same number of dimensions as variables in the dataset\n",
    "from sklearn.decomposition import PCA\n",
    "pca = PCA(n_components = 6)\n",
    "pca.fit(data)\n",
    "\n",
    "# Print the components and the amount of variance in the data contained in each dimension\n",
    "print \"PCA Components:\"\n",
    "print pca.components_\n",
    "\n",
    "print \"\\nPCA Explained Variance Ratio:\"\n",
    "print pca.explained_variance_ratio_\n",
    "\n",
    "\n",
    "print \"\\nThe figure below shows total explained variance of data over the number of PC's\"\n",
    "x = np.arange(6)\n",
    "plt.title('Total Explained Variance vs. Number of PC\\'s')\n",
    "plt.plot(x+1, np.cumsum(pca.explained_variance_ratio_), '-')"
   ]
  },
  {
   "cell_type": "markdown",
   "metadata": {},
   "source": [
    "**2)** How quickly does the variance drop off by dimension? If you were to use PCA on this dataset, how many dimensions would you choose for your analysis? Why?"
   ]
  },
  {
   "cell_type": "markdown",
   "metadata": {
    "collapsed": true
   },
   "source": [
    "Answer: As observed in pca.explained_variance\\_ratio_ , about 46% of the data variance could be explained by the first PC, with an additional 40% variance explained by PC2. Meaning that the first two PC's can represent ~86% of the variance in data, therefore, I would pick 2 PCs for the analysis so that it's also easier to visualize the data points and clusters."
   ]
  },
  {
   "cell_type": "markdown",
   "metadata": {},
   "source": [
    "**3)** What do the dimensions seem to represent? How can you use this information?"
   ]
  },
  {
   "cell_type": "markdown",
   "metadata": {
    "collapsed": true
   },
   "source": [
    "Answer: Looking at the first and second rows of pca.components_ and their most significant coefficients, it seems that the first PC mainly focuses on 'Fresh' with some smaller correlation with 'Frozen' and 'Milk' (possible customer type: Butcher shops), while the second PC focuses on 'Grocery', 'Milk', and 'Detergents_Paper' in that order (possible customer type: convenience stores).\n",
    "\n",
    "It is also worth noting that:\n",
    "- the 'Delicatessen' turns out to be a non-important feature if we are only using two dimensions, in that it would not provide helpful enough information for customer segmentation.\n",
    "- 'Grocery' and 'Detergents_Paper' are grouped together in PC2 given that they have high correlation as shown in EDA.\n",
    "\n",
    "PCA1 and PCA2 seem to be almost equally significant, given that their explained variance ratio is 46% and 41% respectively, while 'Delciatessen' feature seems non-influential in customer segmentation. Hence, I'd recommedn the business managers to track more detailed features and measurements along PCA1 and PCA2 to captures even more variance along those PC's."
   ]
  },
  {
   "cell_type": "markdown",
   "metadata": {},
   "source": [
    "###ICA"
   ]
  },
  {
   "cell_type": "code",
   "execution_count": 7,
   "metadata": {
    "collapsed": false
   },
   "outputs": [
    {
     "name": "stdout",
     "output_type": "stream",
     "text": [
      "[[-0.0281  0.1269  0.8514 -0.0528 -1.     -0.1202]\n",
      " [ 1.     -0.1262 -0.1187 -0.0654  0.1962 -0.0584]\n",
      " [ 0.2022  0.0192 -0.1359 -1.      0.0489  0.3102]\n",
      " [-0.0268 -1.      0.7601  0.0243 -0.2179  0.2351]\n",
      " [-0.0958 -0.0318 -0.1118 -0.0497  0.0476  1.    ]\n",
      " [-0.0434  0.2269 -1.     -0.0324  0.0663  0.0674]]\n"
     ]
    }
   ],
   "source": [
    "# TODO: Fit an ICA model to the data\n",
    "# Note: Adjust the data to have center at the origin first!\n",
    "from sklearn.decomposition import FastICA\n",
    "ica = FastICA(n_components = 6, random_state=1)\n",
    "origin_centered_data = data.copy()\n",
    "origin_centered_data -= origin_centered_data.mean(axis=0)\n",
    "origin_centered_data /= origin_centered_data.std(axis=0)\n",
    "ica.fit(origin_centered_data)\n",
    "\n",
    "# Print the independent components\n",
    "ica_sources_scaled = np.apply_along_axis(lambda x: x/np.max(abs(x)), 1, ica.components_)\n",
    "np.set_printoptions(precision=4, suppress=True)\n",
    "print ica_sources_scaled\n",
    "\n",
    "# Use line below to put switch back to default printoptions\n",
    "#np.set_printoptions(edgeitems=3,infstr='inf', linewidth=75, nanstr='nan', precision=8, suppress=False, threshold=1000, formatter=None)"
   ]
  },
  {
   "cell_type": "markdown",
   "metadata": {},
   "source": [
    "**4)** For each vector in the ICA decomposition, write a sentence or two explaining what sort of object or property it corresponds to. What could these components be used for?"
   ]
  },
  {
   "cell_type": "markdown",
   "metadata": {
    "collapsed": true
   },
   "source": [
    "Answer: \n",
    "\n",
    "Vector 1: mainly corresponds to features 5 and 3 ('Detergents_Paper' and 'Grocery'). Customer type: here we go again\n",
    "\n",
    "Vector 2: mainly corresponds to features 1 and 5 ('Fresh' and 'Detergents_Paper'). Customer type: fresh and healthy buyer\n",
    "\n",
    "Vector 3: mainly corresponds to features 4 and 6 ('Frozen' and 'Delicatessen') Customer type: Bulk food shopper\n",
    "\n",
    "Vector 4: mainly corresponds to features 2, 3, 6, and 6 ('Milk', 'Grocery', and 'Delicatessen', 'Detergents_Paper). Customer type: Convenience stores\n",
    "\n",
    "Vector 5: mainly corresponds to feature 6 and 3 ('Detergents_paper' and 'Grocery'). Customer type: regular shopper\n",
    "\n",
    "Vector 6: mainly corresponds to feature 3 and 2 ('Grocery' and 'Milk'). Customer type: family feeders"
   ]
  },
  {
   "cell_type": "markdown",
   "metadata": {},
   "source": [
    "##Clustering\n",
    "\n",
    "In this section you will choose either K Means clustering or Gaussian Mixed Models clustering, which implements expectation-maximization. Then you will sample elements from the clusters to understand their significance."
   ]
  },
  {
   "cell_type": "markdown",
   "metadata": {},
   "source": [
    "###Choose a Cluster Type\n",
    "\n",
    "**5)** What are the advantages of using K Means clustering or Gaussian Mixture Models?"
   ]
  },
  {
   "cell_type": "markdown",
   "metadata": {},
   "source": [
    "Answer: \n",
    "Advantages of K Means clustering: \n",
    "- hard assignment\n",
    "- quickly converges to local optima\n",
    "- does not make any assumptions on the Gaussian-ness of underlying data\n",
    "\n",
    "Advantages of GMM: \n",
    "- soft assignment. It doesn't have to 100% choose one or another cluster. It works on boundaries, and assigns intermediate probabilities around 0.5 to points in the middle of decision boundary, which is nice because we get probabilities and and not yes / no answers because there is always some underlying chance the the point could be from the other gaussian (cluster).\n",
    "- it will not bias the clusters to have specific structures\n",
    "- it gives you significantly more structural information (e.g. being able to measure how ‘wide’ each cluster is)\n",
    "\n",
    "\n",
    "For this analysis, I would pick K Means clustering due to the hard assignment for easier visualization and better interpretation of data."
   ]
  },
  {
   "cell_type": "markdown",
   "metadata": {},
   "source": [
    "**6)** Below is some starter code to help you visualize some cluster data. The visualization is based on [this demo](http://scikit-learn.org/stable/auto_examples/cluster/plot_kmeans_digits.html) from the sklearn documentation."
   ]
  },
  {
   "cell_type": "code",
   "execution_count": 8,
   "metadata": {
    "collapsed": true
   },
   "outputs": [],
   "source": [
    "# Import clustering modules\n",
    "from sklearn.cluster import KMeans\n",
    "from sklearn.mixture import GMM"
   ]
  },
  {
   "cell_type": "code",
   "execution_count": 9,
   "metadata": {
    "collapsed": false
   },
   "outputs": [
    {
     "name": "stdout",
     "output_type": "stream",
     "text": [
      "[[  -650.0221   1585.5191]\n",
      " [  4426.805    4042.4515]\n",
      " [  4841.9987   2578.7622]\n",
      " [  -990.3464  -6279.806 ]\n",
      " [-10657.9987  -2159.7258]\n",
      " [  2765.9616   -959.8707]\n",
      " [   715.5509  -2013.0023]\n",
      " [  4474.5837   1429.497 ]\n",
      " [  6712.0954  -2205.9092]\n",
      " [  4823.6344  13480.5592]]\n"
     ]
    }
   ],
   "source": [
    "# TODO: First we reduce the data to two dimensions using PCA to capture variation\n",
    "pca_2 = PCA(n_components = 2)\n",
    "pca_2.fit(data)\n",
    "reduced_data = pca_2.fit_transform(data)\n",
    "# print pca.components_[:1]\n",
    "# print data.loc[0]\n",
    "# print type(ndarray(data.loc[0]))\n",
    "# print type(pca.components_[:1])\n",
    "print reduced_data[:10]  # print upto 10 elements"
   ]
  },
  {
   "cell_type": "code",
   "execution_count": 10,
   "metadata": {
    "collapsed": false
   },
   "outputs": [
    {
     "name": "stdout",
     "output_type": "stream",
     "text": [
      "2 Clusters: \n",
      " KMeans(copy_x=True, init='k-means++', max_iter=300, n_clusters=2, n_init=10,\n",
      "    n_jobs=1, precompute_distances='auto', random_state=1, tol=0.0001,\n",
      "    verbose=0) \n",
      "\n",
      "3 Clusters: \n",
      " KMeans(copy_x=True, init='k-means++', max_iter=300, n_clusters=3, n_init=10,\n",
      "    n_jobs=1, precompute_distances='auto', random_state=1, tol=0.0001,\n",
      "    verbose=0) \n",
      "\n",
      "4 Clusters: \n",
      " KMeans(copy_x=True, init='k-means++', max_iter=300, n_clusters=4, n_init=10,\n",
      "    n_jobs=1, precompute_distances='auto', random_state=1, tol=0.0001,\n",
      "    verbose=0) \n",
      "\n"
     ]
    }
   ],
   "source": [
    "# TODO: Implement your clustering algorithm here, and fit it to the reduced data for visualization\n",
    "# The visualizer below assumes your clustering object is named 'clusters'\n",
    "\n",
    "# Creating different number of clusters (2,3, and 4) for comparison on what would be a good number \n",
    "# of clusters\n",
    "clusters_2 = KMeans(n_clusters=2, random_state=1) #2 clusters\n",
    "clusters_3 = KMeans(n_clusters=3, random_state=1) #3 clusters\n",
    "clusters_4 = KMeans(n_clusters=4, random_state=1) #4 clusters\n",
    "\n",
    "clusters_2.fit(reduced_data)\n",
    "clusters_3.fit(reduced_data)\n",
    "clusters_4.fit(reduced_data)\n",
    "\n",
    "# print clusters.labels_\n",
    "print \"2 Clusters: \\n {} \\n\".format(clusters_2)\n",
    "print \"3 Clusters: \\n {} \\n\".format(clusters_3)\n",
    "print \"4 Clusters: \\n {} \\n\".format(clusters_4)"
   ]
  },
  {
   "cell_type": "code",
   "execution_count": 11,
   "metadata": {
    "collapsed": false
   },
   "outputs": [],
   "source": [
    "# Plot the decision boundary by building a mesh grid to populate a graph.\n",
    "x_min, x_max = reduced_data[:, 0].min() - 1, reduced_data[:, 0].max() + 1\n",
    "y_min, y_max = reduced_data[:, 1].min() - 1, reduced_data[:, 1].max() + 1\n",
    "hx = (x_max-x_min)/1000.\n",
    "hy = (y_max-y_min)/1000.\n",
    "xx, yy = np.meshgrid(np.arange(x_min, x_max, hx), np.arange(y_min, y_max, hy))\n",
    "\n",
    "# Obtain labels for each point in mesh. Use last trained model.\n",
    "# Z = clusters.predict(np.c_[xx.ravel(), yy.ravel()])\n",
    "\n",
    "Z_2 = clusters_2.predict(np.c_[xx.ravel(), yy.ravel()])\n",
    "Z_3 = clusters_3.predict(np.c_[xx.ravel(), yy.ravel()])\n",
    "Z_4 = clusters_4.predict(np.c_[xx.ravel(), yy.ravel()])"
   ]
  },
  {
   "cell_type": "code",
   "execution_count": 12,
   "metadata": {
    "collapsed": false
   },
   "outputs": [
    {
     "name": "stdout",
     "output_type": "stream",
     "text": [
      "2 Cluster centroids:\n",
      " [[-24088.3328   1218.1794]\n",
      " [  4175.311    -211.1511]] \n",
      "\n",
      "3 Cluster centroids:\n",
      " [[  4114.9538  -3081.0322]\n",
      " [  1339.4462  25546.4907]\n",
      " [-24220.7119  -4364.4556]] \n",
      "\n",
      "4 Cluster centroids:\n",
      " [[-23984.5576  -4910.9367]\n",
      " [  3496.7882  -5024.8081]\n",
      " [-14526.8761  50607.6414]\n",
      " [  6166.1731  11736.8138]] \n",
      "\n"
     ]
    }
   ],
   "source": [
    "# TODO: Find the centroids for KMeans or the cluster means for GMM \n",
    "\n",
    "centroids_2 = clusters_2.cluster_centers_\n",
    "centroids_3 = clusters_3.cluster_centers_\n",
    "centroids_4 = clusters_4.cluster_centers_\n",
    "\n",
    "print \"2 Cluster centroids:\\n {} \\n\".format(centroids_2)\n",
    "print \"3 Cluster centroids:\\n {} \\n\".format(centroids_3)\n",
    "print \"4 Cluster centroids:\\n {} \\n\".format(centroids_4)"
   ]
  },
  {
   "cell_type": "code",
   "execution_count": 13,
   "metadata": {
    "collapsed": false
   },
   "outputs": [
    {
     "data": {
      "image/png": "[encoded data removed]",
      "text/plain": [
       "<matplotlib.figure.Figure at 0x10ebc0e90>"
      ]
     },
     "metadata": {},
     "output_type": "display_data"
    },
    {
     "name": "stdout",
     "output_type": "stream",
     "text": [
      "x_min: -103864, x_max: 13020,  y_min: -14004, y_max: 99227\n",
      "   Fresh  Milk  Grocery  Frozen  Detergents_Paper  Delicatessen\n",
      "0  12669  9656     7561     214              2674          1338\n",
      "1   7057  9810     9568    1762              3293          1776\n",
      "2   6353  8808     7684    2405              3516          7844\n",
      "3  13265  1196     4221    6404               507          1788\n",
      "4  22615  5410     7198    3915              1777          5185\n",
      "[[  -650.0221   1585.5191]\n",
      " [  4426.805    4042.4515]\n",
      " [  4841.9987   2578.7622]\n",
      " [  -990.3464  -6279.806 ]\n",
      " [-10657.9987  -2159.7258]]\n",
      "[1 1 1 1 0]\n"
     ]
    },
    {
     "data": {
      "image/png": "[encoded data removed]",
      "text/plain": [
       "<matplotlib.figure.Figure at 0x10ebc0ed0>"
      ]
     },
     "metadata": {},
     "output_type": "display_data"
    },
    {
     "name": "stdout",
     "output_type": "stream",
     "text": [
      "x_min: -103864, x_max: 13020,  y_min: -14004, y_max: 99227\n",
      "   Fresh  Milk  Grocery  Frozen  Detergents_Paper  Delicatessen\n",
      "0  12669  9656     7561     214              2674          1338\n",
      "1   7057  9810     9568    1762              3293          1776\n",
      "2   6353  8808     7684    2405              3516          7844\n",
      "3  13265  1196     4221    6404               507          1788\n",
      "4  22615  5410     7198    3915              1777          5185\n",
      "[[  -650.0221   1585.5191]\n",
      " [  4426.805    4042.4515]\n",
      " [  4841.9987   2578.7622]\n",
      " [  -990.3464  -6279.806 ]\n",
      " [-10657.9987  -2159.7258]]\n",
      "[0 0 0 0 2]\n"
     ]
    },
    {
     "data": {
      "image/png": "[encoded data removed]",
      "text/plain": [
       "<matplotlib.figure.Figure at 0x119a02890>"
      ]
     },
     "metadata": {},
     "output_type": "display_data"
    },
    {
     "name": "stdout",
     "output_type": "stream",
     "text": [
      "x_min: -103864, x_max: 13020,  y_min: -14004, y_max: 99227\n",
      "   Fresh  Milk  Grocery  Frozen  Detergents_Paper  Delicatessen\n",
      "0  12669  9656     7561     214              2674          1338\n",
      "1   7057  9810     9568    1762              3293          1776\n",
      "2   6353  8808     7684    2405              3516          7844\n",
      "3  13265  1196     4221    6404               507          1788\n",
      "4  22615  5410     7198    3915              1777          5185\n",
      "[[  -650.0221   1585.5191]\n",
      " [  4426.805    4042.4515]\n",
      " [  4841.9987   2578.7622]\n",
      " [  -990.3464  -6279.806 ]\n",
      " [-10657.9987  -2159.7258]]\n",
      "[1 3 1 1 0]\n"
     ]
    }
   ],
   "source": [
    "# Put the result into a color plot\n",
    "def plot_clusters(Z, clusters, centroids):\n",
    "    Z = Z.reshape(xx.shape)\n",
    "    plt.figure(1)\n",
    "    plt.clf()\n",
    "    plt.imshow(Z, interpolation='nearest',\n",
    "               extent=(xx.min(), xx.max(), yy.min(), yy.max()),\n",
    "               cmap=plt.cm.Paired,\n",
    "               aspect='auto', origin='lower')\n",
    "\n",
    "    plt.plot(reduced_data[:, 0], reduced_data[:, 1], 'k.', markersize=2)\n",
    "    plt.scatter(centroids[:, 0], centroids[:, 1],\n",
    "                marker='x', s=169, linewidths=3,\n",
    "                color='w', zorder=10)\n",
    "    plt.title('Clustering on the wholesale grocery dataset (PCA-reduced data)\\n'\n",
    "              'Centroids are marked with white cross')\n",
    "    plt.xlim(x_min, x_max)\n",
    "    plt.ylim(y_min, y_max)\n",
    "    plt.xticks(())\n",
    "    plt.yticks(())\n",
    "    plt.show()\n",
    "\n",
    "    print \"x_min: %d, x_max: %d,  y_min: %d, y_max: %d\" % (x_min, x_max, y_min, y_max)\n",
    "    print data[:5]\n",
    "    print reduced_data[:5]\n",
    "    print clusters.labels_[:5]\n",
    "\n",
    "plot_clusters(Z_2, clusters_2, centroids_2)\n",
    "plot_clusters(Z_3, clusters_3, centroids_3)\n",
    "plot_clusters(Z_4, clusters_4, centroids_4)"
   ]
  },
  {
   "cell_type": "markdown",
   "metadata": {},
   "source": [
    "**7)** What are the central objects in each cluster? Describe them as customers."
   ]
  },
  {
   "cell_type": "markdown",
   "metadata": {
    "collapsed": true
   },
   "source": [
    "Answer: \n",
    "\n",
    "Using n=3 for number of clusters, the resulting centroids in the reduced space will be \n",
    "\n",
    "Centroid 1: [4114.95375632  -3081.03219608] \n",
    "\n",
    "Centroid 2: [  1339.44615464  25546.49074629]\n",
    "\n",
    "Centroid 3: [-24220.71188261  -4364.45560022]\n",
    "\n",
    "With PC1 focusing mainly on 'Fresh' (in revese, because the first coefficient is negative), and PC2 positively correlated with 'Grocery', 'Milk', and 'Detergent_Papers' in that order.\n",
    "\n",
    "Cluster 1 (blue), having the biggest population, can be described as customers who, relatively speaking, have less 'Fresh' and also less 'Grocery, Milk, and Detergents_Paper' in their annual basket. \n",
    "\n",
    "Cluster 2 (red), can be described as customers who, relatively speaking, have less 'Fresh' but more of 'Grocery, Milk, and Detergents_Paper' in their annual basket. \n",
    "\n",
    "Cluster 3 (brown), can be described as customers who, relatively speaking, have much more 'Fresh' but less of 'Grocery, Milk, and Detergents_Paper' in their annual basket. \n",
    "\n",
    "As a side note, for better visualization and analysis of the clusters, it would be worthwhile to consider additiaonl interactive 3D plots and Silhouette plots, which is out of scope of this project."
   ]
  },
  {
   "cell_type": "markdown",
   "metadata": {},
   "source": [
    "###Conclusions\n",
    "\n",
    "** 8)** Which of these techniques did you feel gave you the most insight into the data?"
   ]
  },
  {
   "cell_type": "markdown",
   "metadata": {
    "collapsed": true
   },
   "source": [
    "Answer: PCA was very helpful in providing insights into customer segmentation. Specifically:\n",
    "- it suggested that ~86% of the data variance could be explained by the first two principal components, hence the data could be reduced into 2 dimensions for further analysis and visualization.\n",
    "- it helped in understanding which features those two principal components comprise of and most correlate with, hence giving insights into what set of features the future customer reasearch and data collection should be focused on.\n",
    "\n",
    "ICA was also helpful in understanding the potential set of independent customer sets/types, that in aggregate form the overall annual sales. As such, future research could be guided to focus on these specific and independent customer types with specific market baskets to understand their needs separately."
   ]
  },
  {
   "cell_type": "markdown",
   "metadata": {
    "collapsed": true
   },
   "source": [
    "**9)** How would you use that technique to help the company design new experiments?"
   ]
  },
  {
   "cell_type": "markdown",
   "metadata": {},
   "source": [
    "Answer: \n",
    "With a better understanding of customer clusters and different customer types from PCA and ICA analysis, the company perform A/B testing (e.g. effect of morning vs. evening delivery on different customersegments) on new initiatives and gauge the effect of those initiatives on different customer types. This will help us understand which customers would be most affected by the change and how, and separate efforts can be taken to address the customer needs separately.\n",
    "\n",
    "Another thing worth consideration is collect and track a higher number of features on each customer to get higher variance and differentiation, and in turn better segmentation and needs assessment."
   ]
  },
  {
   "cell_type": "markdown",
   "metadata": {},
   "source": [
    "**10)** How would you use that data to help you predict future customer needs?"
   ]
  },
  {
   "cell_type": "markdown",
   "metadata": {},
   "source": [
    "Answer: By knowing the different customer clusters, each potentially with different set of needs, the business can better tailor its services to individual customer segments without necessarily lumping them all to the same group and regarding their needs as one.\n",
    "\n",
    "In addition, supervised learning techniques such as classification could be leveraged to assign new customers to the already known clusters to better understand their needs and provide better targeted the services to them."
   ]
  }
 ],
 "metadata": {
  "kernelspec": {
   "display_name": "Python 2",
   "language": "python",
   "name": "python2"
  },
  "language_info": {
   "codemirror_mode": {
    "name": "ipython",
    "version": 2
   },
   "file_extension": ".py",
   "mimetype": "text/x-python",
   "name": "python",
   "nbconvert_exporter": "python",
   "pygments_lexer": "ipython2",
   "version": "2.7.10"
  }
 },
 "nbformat": 4,
 "nbformat_minor": 0
}
